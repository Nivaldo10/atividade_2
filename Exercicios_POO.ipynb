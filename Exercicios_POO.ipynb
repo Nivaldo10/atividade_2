{
  "nbformat": 4,
  "nbformat_minor": 0,
  "metadata": {
    "colab": {
      "provenance": [],
      "authorship_tag": "ABX9TyPBQaBrwTu9/VJs8vB4Cby5",
      "include_colab_link": true
    },
    "kernelspec": {
      "name": "python3",
      "display_name": "Python 3"
    },
    "language_info": {
      "name": "python"
    }
  },
  "cells": [
    {
      "cell_type": "markdown",
      "metadata": {
        "id": "view-in-github",
        "colab_type": "text"
      },
      "source": [
        "<a href=\"https://colab.research.google.com/github/Nivaldo10/atividade_2/blob/main/Exercicios_POO.ipynb\" target=\"_parent\"><img src=\"https://colab.research.google.com/assets/colab-badge.svg\" alt=\"Open In Colab\"/></a>"
      ]
    },
    {
      "cell_type": "code",
      "execution_count": null,
      "metadata": {
        "id": "q41Yf5XojzWF"
      },
      "outputs": [],
      "source": [
        "# Questão 1\n",
        "for i in range(5, 6):\n",
        "  for j in range(5, 16):\n",
        "    print(f\"{i} x {j} = {i * j}\")\n",
        "print()"
      ]
    },
    {
      "cell_type": "code",
      "source": [
        "# Questão 2\n",
        "cpf = input(\"Informe o CPF: \")\n",
        "digitos = len([c for c in cpf if c.isdigit()])\n",
        "if digitos != 11:\n",
        "  print(\"CPF inválido\")\n",
        "else:\n",
        "  print(f\"O número de dígitos no CPF é: {digitos}\")\n"
      ],
      "metadata": {
        "id": "ICqoMY7zl6iX"
      },
      "execution_count": null,
      "outputs": []
    },
    {
      "cell_type": "code",
      "source": [
        "# Questão 3\n",
        "def calcular_fibonacci(n):\n",
        "    fibonacci = [0, 1]\n",
        "    for i in range(2, n):\n",
        "      fibonacci.append(fibonacci[i-1] + fibonacci[i-2])\n",
        "    return fibonacci[:n]\n",
        "\n",
        "numero = int(input(\"Informe um número para calcular a série de Fibonacci: \"))\n",
        "if numero <= 0:\n",
        "    print(\"Por favor, informe um número inteiro positivo.\")\n",
        "else:\n",
        "    resultado = calcular_fibonacci(numero)\n",
        "    print(\"A série de Fibonacci é:\", \", \".join(map(str, resultado)))\n"
      ],
      "metadata": {
        "id": "LOijnzUF5Zkw"
      },
      "execution_count": null,
      "outputs": []
    },
    {
      "cell_type": "code",
      "source": [],
      "metadata": {
        "id": "PVdKl8Sb6H0b"
      },
      "execution_count": null,
      "outputs": []
    }
  ]
}