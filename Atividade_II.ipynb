{
  "nbformat": 4,
  "nbformat_minor": 0,
  "metadata": {
    "colab": {
      "provenance": [],
      "authorship_tag": "ABX9TyM3A9lX/FVRjJ39Awhqor4J",
      "include_colab_link": true
    },
    "kernelspec": {
      "name": "python3",
      "display_name": "Python 3"
    },
    "language_info": {
      "name": "python"
    }
  },
  "cells": [
    {
      "cell_type": "markdown",
      "metadata": {
        "id": "view-in-github",
        "colab_type": "text"
      },
      "source": [
        "<a href=\"https://colab.research.google.com/github/Nivaldo10/atividade_2/blob/main/Atividade_II.ipynb\" target=\"_parent\"><img src=\"https://colab.research.google.com/assets/colab-badge.svg\" alt=\"Open In Colab\"/></a>"
      ]
    },
    {
      "cell_type": "code",
      "execution_count": 2,
      "metadata": {
        "colab": {
          "base_uri": "https://localhost:8080/"
        },
        "id": "KWTsCgLc2NTY",
        "outputId": "56245fb0-c3e0-466b-c547-446a067b1ddf"
      },
      "outputs": [
        {
          "output_type": "stream",
          "name": "stdout",
          "text": [
            "Digite o 1º número inteiro: 1\n",
            "Digite o 2º número inteiro: 2\n",
            "Digite o 3º número inteiro: 3\n",
            "Digite o 4º número inteiro: 4\n",
            "Digite o 5º número inteiro: 5\n",
            "Digite o 6º número inteiro: 6\n",
            "Digite o 7º número inteiro: 7\n",
            "Digite o 8º número inteiro: 8\n",
            "Digite o 9º número inteiro: 9\n",
            "Digite o 10º número inteiro: 10\n",
            "\n",
            "Números primos encontrados:\n",
            "Número: 2, Posição: 1\n",
            "Número: 3, Posição: 2\n",
            "Número: 5, Posição: 4\n",
            "Número: 7, Posição: 6\n"
          ]
        }
      ],
      "source": [
        "def numero_primo(n):\n",
        "  if n <= 1:\n",
        "    return False\n",
        "  for i in range(2, int(n**0.5) + 1):\n",
        "    if n % i == 0:\n",
        "      return False\n",
        "  return True\n",
        "\n",
        "vetor = []\n",
        "for i in range(10):\n",
        "  numero = int(input(f\"Digite o {i+1}º número inteiro: \"))\n",
        "  vetor.append(numero)\n",
        "\n",
        "primos = []\n",
        "posicoes = []\n",
        "for i in range(len(vetor)):\n",
        "  if numero_primo(vetor[i]):\n",
        "    primos.append(vetor[i])\n",
        "    posicoes.append(i)\n",
        "\n",
        "print(\"\\nNúmeros primos encontrados:\")\n",
        "if primos:\n",
        "  for i in range(len(primos)):\n",
        "    print(f\"Número: {primos[i]}, Posição: {posicoes[i]}\")\n",
        "else:\n",
        "  print(\"Nenhum número primo encontrado no vetor.\")\n"
      ]
    },
    {
      "cell_type": "code",
      "source": [
        "def compactar_vetor(vetor_a):\n",
        "  vetor_b = []\n",
        "  for elemento in vetor_a:\n",
        "    if elemento > 0:\n",
        "      vetor_b.append(elemento)\n",
        "  return vetor_b\n",
        "\n",
        "vetor_a = []\n",
        "for i in range(10):\n",
        "  numero = int(input(f\"Digite o {i+1}º número inteiro: \"))\n",
        "  vetor_a.append(numero)\n",
        "\n",
        "vetor_b = compactar_vetor(vetor_a)\n",
        "\n",
        "print(\"\\nVetor B (compactado):\")\n",
        "print(vetor_b)\n"
      ],
      "metadata": {
        "colab": {
          "base_uri": "https://localhost:8080/"
        },
        "id": "jb8OfbaJ3oq-",
        "outputId": "53768969-ae4e-464a-de9c-8ffc732517e3"
      },
      "execution_count": 6,
      "outputs": [
        {
          "output_type": "stream",
          "name": "stdout",
          "text": [
            "Digite o 1º número inteiro: 1\n",
            "Digite o 2º número inteiro: 2\n",
            "Digite o 3º número inteiro: 3\n",
            "Digite o 4º número inteiro: 0\n",
            "Digite o 5º número inteiro: 6\n",
            "Digite o 6º número inteiro: 5\n",
            "Digite o 7º número inteiro: -4\n",
            "Digite o 8º número inteiro: -6\n",
            "Digite o 9º número inteiro: 9\n",
            "Digite o 10º número inteiro: 10\n",
            "\n",
            "Vetor B (compactado):\n",
            "[1, 2, 3, 6, 5, 9, 10]\n"
          ]
        }
      ]
    },
    {
      "cell_type": "code",
      "source": [
        "def gera_linha_pascal(n):\n",
        "  if n == 0:\n",
        "    return [1]\n",
        "  elif n == 1:\n",
        "    return [1, 1]\n",
        "  else:\n",
        "    linha_anterior = gera_linha_pascal(n - 1)\n",
        "    nova_linha = [1]\n",
        "    for i in range(len(linha_anterior) - 1):\n",
        "      nova_linha.append(linha_anterior[i] + linha_anterior[i + 1])\n",
        "    nova_linha.append(1)\n",
        "    return nova_linha\n",
        "\n",
        "\n",
        "n = int(input(\"Digite um número inteiro positivo: \"))\n",
        "\n",
        "for i in range(n):\n",
        "  linha = gera_linha_pascal(i)\n",
        "  print(\" \" * (n - i - 1), end=\"\")\n",
        "  for numero in linha:\n",
        "    print(numero, end=\" \")\n",
        "  print()\n"
      ],
      "metadata": {
        "colab": {
          "base_uri": "https://localhost:8080/"
        },
        "id": "LfMU5FPO4HMe",
        "outputId": "ed4fa843-6dad-4291-a431-ad5e350bf366"
      },
      "execution_count": 8,
      "outputs": [
        {
          "output_type": "stream",
          "name": "stdout",
          "text": [
            "Digite um número inteiro positivo: 10\n",
            "         1 \n",
            "        1 1 \n",
            "       1 2 1 \n",
            "      1 3 3 1 \n",
            "     1 4 6 4 1 \n",
            "    1 5 10 10 5 1 \n",
            "   1 6 15 20 15 6 1 \n",
            "  1 7 21 35 35 21 7 1 \n",
            " 1 8 28 56 70 56 28 8 1 \n",
            "1 9 36 84 126 126 84 36 9 1 \n"
          ]
        }
      ]
    },
    {
      "cell_type": "code",
      "source": [
        "def preenche_matriz(ordem):\n",
        "  matriz = []\n",
        "  for i in range(ordem):\n",
        "    linha = []\n",
        "    for j in range(ordem):\n",
        "      elemento = int(input(f\"Digite o elemento da linha {i+1}, coluna {j+1}: \"))\n",
        "      linha.append(elemento)\n",
        "    matriz.append(linha)\n",
        "  return matriz\n",
        "\n",
        "def soma_linhas_matriz(matriz):\n",
        "  ordem = len(matriz)\n",
        "  soma_linhas = []\n",
        "  for i in range(ordem):\n",
        "    soma = 0\n",
        "    for j in range(ordem):\n",
        "      soma += matriz[i][j]\n",
        "    soma_linhas.append(soma)\n",
        "  return soma_linhas\n",
        "\n",
        "\n",
        "ordem = 5\n",
        "matriz = preenche_matriz(ordem)\n",
        "\n",
        "soma_linhas = soma_linhas_matriz(matriz)\n",
        "matriz.append(soma_linhas)\n",
        "\n",
        "\n",
        "print(\"\\nMatriz com a soma das linhas:\")\n",
        "for linha in matriz:\n",
        "  print(linha)\n"
      ],
      "metadata": {
        "colab": {
          "base_uri": "https://localhost:8080/"
        },
        "id": "jCm5UnoA4aac",
        "outputId": "d74ef3d7-6e47-4b08-e32a-8f35360761e9"
      },
      "execution_count": 10,
      "outputs": [
        {
          "output_type": "stream",
          "name": "stdout",
          "text": [
            "Digite o elemento da linha 1, coluna 1: 5\n",
            "Digite o elemento da linha 1, coluna 2: 3\n",
            "Digite o elemento da linha 1, coluna 3: 4\n",
            "Digite o elemento da linha 1, coluna 4: 6\n",
            "Digite o elemento da linha 1, coluna 5: 4\n",
            "Digite o elemento da linha 2, coluna 1: 3\n",
            "Digite o elemento da linha 2, coluna 2: 2\n",
            "Digite o elemento da linha 2, coluna 3: 5\n",
            "Digite o elemento da linha 2, coluna 4: 3\n",
            "Digite o elemento da linha 2, coluna 5: 6\n",
            "Digite o elemento da linha 3, coluna 1: 3\n",
            "Digite o elemento da linha 3, coluna 2: 2\n",
            "Digite o elemento da linha 3, coluna 3: 3\n",
            "Digite o elemento da linha 3, coluna 4: 5\n",
            "Digite o elemento da linha 3, coluna 5: 2\n",
            "Digite o elemento da linha 4, coluna 1: 1\n",
            "Digite o elemento da linha 4, coluna 2: 2\n",
            "Digite o elemento da linha 4, coluna 3: 3\n",
            "Digite o elemento da linha 4, coluna 4: 4\n",
            "Digite o elemento da linha 4, coluna 5: 5\n",
            "Digite o elemento da linha 5, coluna 1: 6\n",
            "Digite o elemento da linha 5, coluna 2: 7\n",
            "Digite o elemento da linha 5, coluna 3: 4\n",
            "Digite o elemento da linha 5, coluna 4: 3\n",
            "Digite o elemento da linha 5, coluna 5: 5\n",
            "\n",
            "Matriz com a soma das linhas:\n",
            "[5, 3, 4, 6, 4]\n",
            "[3, 2, 5, 3, 6]\n",
            "[3, 2, 3, 5, 2]\n",
            "[1, 2, 3, 4, 5]\n",
            "[6, 7, 4, 3, 5]\n",
            "[22, 19, 15, 15, 25]\n"
          ]
        }
      ]
    }
  ]
}